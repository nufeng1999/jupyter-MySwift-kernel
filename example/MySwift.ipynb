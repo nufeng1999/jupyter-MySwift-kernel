{
 "cells": [
  {
   "cell_type": "code",
   "execution_count": 1,
   "id": "02e448fb",
   "metadata": {},
   "outputs": [
    {
     "name": "stdout",
     "output_type": "stream",
     "text": [
      "[MySwiftKernel214919] Info:file h:\\Jupyter\\ipynb\\MySwift\\src/test.swift created successfully\n",
      "[MySwiftKernel214919] Info:Generating executable file\n",
      "[MySwiftKernel214919] Info:swiftc h:\\Jupyter\\ipynb\\MySwift\\src/test.swift -o src/test.exe -sdk S:\\Library\\Developer\\Platforms\\Windows.platform\\Developer\\SDKs\\Windows.sdk -I S:\\Library\\Developer\\Platforms\\Windows.platform\\Developer\\SDKs\\Windows.sdk\\usr\\lib\\swift -L S:\\Library\\Developer\\Platforms\\Windows.platform\\Developer\\SDKs\\Windows.sdk\\usr\\lib\\swift\\windows \n",
      "[MySwiftKernel214919] Info:  ڴ src\\test.lib Ͷ src\\test.exp\n",
      "\n",
      "[MySwiftKernel214919] Info:The process end:3780\n",
      "[MySwiftKernel214919] Info:The process :h:\\Jupyter\\ipynb\\MySwift\\src/test.exe\n",
      "[MySwiftKernel214919] Info:h:\\Jupyter\\ipynb\\MySwift\\src/test.exe \n"
     ]
    },
    {
     "data": {
      "text/plain": [
       "中文世界 & Hello, world!\r\n"
      ]
     },
     "metadata": {
      "text/plain": {}
     },
     "output_type": "display_data"
    },
    {
     "name": "stdout",
     "output_type": "stream",
     "text": [
      "[MySwiftKernel214919] Info:The process end:10644\n"
     ]
    }
   ],
   "source": [
    "// new kernel.py\n",
    "//%log:0\n",
    "//%overwritefile\n",
    "//%file:src/test.swift\n",
    "//%cflags:-o src/test.exe -sdk S:\\Library\\Developer\\Platforms\\Windows.platform\\Developer\\SDKs\\Windows.sdk\n",
    "//%cflags:-I S:\\Library\\Developer\\Platforms\\Windows.platform\\Developer\\SDKs\\Windows.sdk\\usr\\lib\\swift\n",
    "//%ldflags:-L S:\\Library\\Developer\\Platforms\\Windows.platform\\Developer\\SDKs\\Windows.sdk\\usr\\lib\\swift\\windows\n",
    "// %noruncode\n",
    "print(\"中文世界 & Hello, world!\")"
   ]
  },
  {
   "cell_type": "code",
   "execution_count": 2,
   "id": "d917d93f",
   "metadata": {},
   "outputs": [
    {
     "name": "stdout",
     "output_type": "stream",
     "text": [
      "[MySwiftKernel214919] Info:file h:\\Jupyter\\ipynb\\MySwift\\src/test.swift created successfully\n",
      "[MySwiftKernel214919] Info:Generating executable file\n",
      "[MySwiftKernel214919] Info:swiftc h:\\Jupyter\\ipynb\\MySwift\\src/test.swift -o src/test.exe -sdk S:\\Library\\Developer\\Platforms\\Windows.platform\\Developer\\SDKs\\Windows.sdk -I S:\\Library\\Developer\\Platforms\\Windows.platform\\Developer\\SDKs\\Windows.sdk\\usr\\lib\\swift -L S:\\Library\\Developer\\Platforms\\Windows.platform\\Developer\\SDKs\\Windows.sdk\\usr\\lib\\swift\\windows \n",
      "[MySwiftKernel214919] Info:  ڴ src\\test.lib Ͷ src\\test.exp\n",
      "\n",
      "[MySwiftKernel214919] Info:The process end:13296\n",
      "[MySwiftKernel214919] Info:The process :h:\\Jupyter\\ipynb\\MySwift\\src/test.exe\n",
      "[MySwiftKernel214919] Info:h:\\Jupyter\\ipynb\\MySwift\\src/test.exe \n"
     ]
    },
    {
     "data": {
      "text/plain": [
       "The current value of friendlyWelcome is Bonjour!\r\n",
       "🐱\r\n"
      ]
     },
     "metadata": {
      "text/plain": {}
     },
     "output_type": "display_data"
    },
    {
     "name": "stdout",
     "output_type": "stream",
     "text": [
      "[MySwiftKernel214919] Info:The process end:7380\n"
     ]
    }
   ],
   "source": [
    "// new kernel.py\n",
    "//%log:1\n",
    "//%overwritefile\n",
    "//%file:src/test.swift\n",
    "//%cflags:-o src/test.exe -sdk S:\\Library\\Developer\\Platforms\\Windows.platform\\Developer\\SDKs\\Windows.sdk\n",
    "//%cflags:-I S:\\Library\\Developer\\Platforms\\Windows.platform\\Developer\\SDKs\\Windows.sdk\\usr\\lib\\swift\n",
    "//%ldflags:-L S:\\Library\\Developer\\Platforms\\Windows.platform\\Developer\\SDKs\\Windows.sdk\\usr\\lib\\swift\\windows\n",
    "// %noruncode\n",
    "\n",
    "var friendlyWelcome = \"Hello!\"\n",
    "friendlyWelcome = \"Bonjour!\"\n",
    "// friendlyWelcome 现在是 \"Bonjour!\"\n",
    "\n",
    "print(\"The current value of friendlyWelcome is \\(friendlyWelcome)\")\n",
    "// 输出“The current value of friendlyWelcome is Bonjour!”\n",
    "let cat = \"🐱\"; print(cat)\n",
    "let age = -3\n",
    "// assert(age >= 0, \"A person's age cannot be less than zero\")\n",
    "// 因为 age < 0，所以断言会触发"
   ]
  },
  {
   "cell_type": "code",
   "execution_count": 4,
   "id": "522a5e92",
   "metadata": {},
   "outputs": [
    {
     "name": "stdout",
     "output_type": "stream",
     "text": [
      "[MySwiftKernel214919] Info:file h:\\Jupyter\\ipynb\\MySwift\\src/test.swift created successfully\n",
      "[MySwiftKernel214919] Info:Generating executable file\n",
      "[MySwiftKernel214919] Info:swiftc h:\\Jupyter\\ipynb\\MySwift\\src/test.swift -o src/test.exe -sdk S:\\Library\\Developer\\Platforms\\Windows.platform\\Developer\\SDKs\\Windows.sdk -I S:\\Library\\Developer\\Platforms\\Windows.platform\\Developer\\SDKs\\Windows.sdk\\usr\\lib\\swift -L S:\\Library\\Developer\\Platforms\\Windows.platform\\Developer\\SDKs\\Windows.sdk\\usr\\lib\\swift\\windows \n",
      "[MySwiftKernel214919] Info:  ڴ src\\test.lib Ͷ src\\test.exp\n",
      "\n",
      "[MySwiftKernel214919] Info:The process end:4372\n",
      "[MySwiftKernel214919] Info:The process :h:\\Jupyter\\ipynb\\MySwift\\src/test.exe\n",
      "[MySwiftKernel214919] Info:h:\\Jupyter\\ipynb\\MySwift\\src/test.exe \n"
     ]
    },
    {
     "data": {
      "text/plain": [
       "Hello, Anna!\r\n",
       "Hello, Alex!\r\n",
       "Hello, Brian!\r\n",
       "Hello, Jack!\r\n"
      ]
     },
     "metadata": {
      "text/plain": {}
     },
     "output_type": "display_data"
    },
    {
     "name": "stdout",
     "output_type": "stream",
     "text": [
      "[MySwiftKernel214919] Info:The process end:10728\n"
     ]
    }
   ],
   "source": [
    "// new kernel.py\n",
    "//%log:0\n",
    "//%overwritefile\n",
    "//%file:src/test.swift\n",
    "//%cflags:-o src/test.exe \n",
    "\n",
    "// ---Windows environment---\n",
    "//%cflags:-sdk S:\\Library\\Developer\\Platforms\\Windows.platform\\Developer\\SDKs\\Windows.sdk\n",
    "//%cflags:-I S:\\Library\\Developer\\Platforms\\Windows.platform\\Developer\\SDKs\\Windows.sdk\\usr\\lib\\swift\n",
    "//%ldflags:-L S:\\Library\\Developer\\Platforms\\Windows.platform\\Developer\\SDKs\\Windows.sdk\\usr\\lib\\swift\\windows\n",
    "\n",
    "// %noruncode\n",
    "let names = [\"Anna\", \"Alex\", \"Brian\", \"Jack\"]\n",
    "for name in names {\n",
    "    print(\"Hello, \\(name)!\")\n",
    "}"
   ]
  },
  {
   "cell_type": "code",
   "execution_count": null,
   "id": "ff75df3a",
   "metadata": {},
   "outputs": [],
   "source": [
    "//%noruncode\n",
    "//%overwritefile\n",
    "//%file:Package.swift\n",
    "// swift-tools-version:4.1\n",
    "import PackageDescription\n",
    "\n",
    "let package = Package(\n",
    "    name: \"Cacao\",\n",
    "    products: [\n",
    "        .library(name: \"Cacao\", targets: [\"Cacao\"]),\n",
    "        .executable(name: \"CacaoDemo\", targets: [\"CacaoDemo\"]),\n",
    "        ],\n",
    "    dependencies: [\n",
    "        .package(\n",
    "            url: \"https://github.com/PureSwift/Silica.git\",\n",
    "            .branch(\"master\")\n",
    "        ),\n",
    "        .package(\n",
    "            url: \"https://github.com/PureSwift/Cairo.git\",\n",
    "            .branch(\"master\")\n",
    "        ),\n",
    "        .package(\n",
    "            url: \"https://github.com/PureSwift/SDL.git\",\n",
    "            .branch(\"master\")\n",
    "        )\n",
    "    ],\n",
    "    targets: [\n",
    "        .target(\n",
    "            name: \"Cacao\",\n",
    "            dependencies: [\n",
    "                \"Silica\",\n",
    "                \"Cairo\",\n",
    "                \"SDL\"\n",
    "            ]\n",
    "        ),\n",
    "        .target(\n",
    "            name: \"CacaoDemo\",\n",
    "            dependencies: [\n",
    "                \"Cacao\"\n",
    "            ]\n",
    "        ),\n",
    "        ]\n",
    ")\n"
   ]
  },
  {
   "cell_type": "code",
   "execution_count": null,
   "id": "8057b1ca",
   "metadata": {},
   "outputs": [],
   "source": [
    "// new \n",
    "//%log:1\n",
    "//%overwritefile\n",
    "//%file:Sources/LinuxMain.swift\n",
    "//%cflags:-o Sources/test1.out \n",
    "//\n",
    "//  main.swift\n",
    "//  Cacao\n",
    "//\n",
    "//  Created by Alsey Coleman Miller on 5/21/16.\n",
    "//  Copyright © 2016 PureSwift. All rights reserved.\n",
    "//\n",
    "import XCTest\n",
    "import Foundation\n",
    "import CCairo\n",
    "import Cairo\n",
    "import Silica\n",
    "@testable import Cacao\n",
    "@testable import CacaoTests\n",
    "\n",
    "XCTMain([testCase(StyleKitTests.allTests),\n",
    "         testCase(FontTests.allTests),\n",
    "         testCase(RenderingTests.allTests),\n",
    "         testCase(UIViewTests.allTests)\n",
    "        ])"
   ]
  },
  {
   "cell_type": "code",
   "execution_count": 7,
   "id": "3be8a48b",
   "metadata": {},
   "outputs": [
    {
     "name": "stdout",
     "output_type": "stream",
     "text": [
      "[MySwift kernel] Info:swift build \n"
     ]
    },
    {
     "data": {
      "text/plain": [
       "Fetching https://github.com/PureSwift/Silica.git\n"
      ]
     },
     "metadata": {
      "text/plain": {}
     },
     "output_type": "display_data"
    },
    {
     "data": {
      "text/plain": [
       "Fetched https://github.com/PureSwift/Silica.git (6.78s)\n"
      ]
     },
     "metadata": {
      "text/plain": {}
     },
     "output_type": "display_data"
    },
    {
     "data": {
      "text/plain": [
       "Fetching https://github.com/PureSwift/Cairo.git\n"
      ]
     },
     "metadata": {
      "text/plain": {}
     },
     "output_type": "display_data"
    }
   ],
   "source": [
    "//%onlyruncmd\n",
    "//%swift:build"
   ]
  }
 ],
 "metadata": {
  "interpreter": {
   "hash": "790d66b9a7d127603100553f17b106d8e2aaf6777ced79107fc93b8d84add8f0"
  },
  "kernelspec": {
   "display_name": "MySwift",
   "language": "swift",
   "name": "myswift"
  },
  "language_info": {
   "codemirror_mode": {
    "name": "ipython",
    "version": 3
   },
   "file_extension": ".ts",
   "mimetype": "text/swift",
   "name": "swift",
   "nbconvert_exporter": "Swift",
   "pygments_lexer": "ipython3",
   "version": "3.9.6"
  },
  "widgets": {
   "application/vnd.jupyter.widget-state+json": {
    "state": {},
    "version_major": 2,
    "version_minor": 0
   }
  }
 },
 "nbformat": 4,
 "nbformat_minor": 5
}
