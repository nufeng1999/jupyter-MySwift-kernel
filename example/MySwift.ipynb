{
 "cells": [
  {
   "cell_type": "code",
   "execution_count": 1,
   "id": "02e448fb",
   "metadata": {},
   "outputs": [
    {
     "data": {
      "text/plain": [
       "中文世界 & Hello, world!\r\n"
      ]
     },
     "metadata": {
      "text/plain": {}
     },
     "output_type": "display_data"
    }
   ],
   "source": [
    "// new kernel.py\n",
    "//%log:0\n",
    "//%overwritefile\n",
    "//%file:src/test.swift\n",
    "//%cflags:-o src/test.exe -sdk S:\\Library\\Developer\\Platforms\\Windows.platform\\Developer\\SDKs\\Windows.sdk\n",
    "//%cflags:-I S:\\Library\\Developer\\Platforms\\Windows.platform\\Developer\\SDKs\\Windows.sdk\\usr\\lib\\swift\n",
    "//%ldflags:-L S:\\Library\\Developer\\Platforms\\Windows.platform\\Developer\\SDKs\\Windows.sdk\\usr\\lib\\swift\\windows\n",
    "// %noruncode\n",
    "print(\"中文世界 & Hello, world!\")"
   ]
  },
  {
   "cell_type": "code",
   "execution_count": 6,
   "id": "d917d93f",
   "metadata": {},
   "outputs": [
    {
     "name": "stdout",
     "output_type": "stream",
     "text": [
      "[MySwift] Info:file h:\\Jupyter\\ipynb\\MySwift\\src/test.swift created successfully\n",
      "[MySwift] Info:Generating executable file\n",
      "[MySwift] Info:swiftc h:\\Jupyter\\ipynb\\MySwift\\src/test.swift -o src/test.exe -sdk S:\\Library\\Developer\\Platforms\\Windows.platform\\Developer\\SDKs\\Windows.sdk -I S:\\Library\\Developer\\Platforms\\Windows.platform\\Developer\\SDKs\\Windows.sdk\\usr\\lib\\swift -L S:\\Library\\Developer\\Platforms\\Windows.platform\\Developer\\SDKs\\Windows.sdk\\usr\\lib\\swift\\windows \n",
      "[MySwift] Info:  ڴ src\\test.lib Ͷ src\\test.exp\n",
      "\n",
      "[MySwift] Info:The process end:14272\n",
      "[MySwift] Info:The process :h:\\Jupyter\\ipynb\\MySwift\\src/test.exe\n",
      "[MySwift] Info:h:\\Jupyter\\ipynb\\MySwift\\src/test.exe \n"
     ]
    },
    {
     "data": {
      "text/plain": [
       "The current value of friendlyWelcome is Bonjour!\r\n",
       "🐱\r\n"
      ]
     },
     "metadata": {
      "text/plain": {}
     },
     "output_type": "display_data"
    },
    {
     "name": "stdout",
     "output_type": "stream",
     "text": [
      "[MySwift] Info:The process end:2544\n"
     ]
    }
   ],
   "source": [
    "// new kernel.py\n",
    "//%log:1\n",
    "//%overwritefile\n",
    "//%file:src/test.swift\n",
    "//%cflags:-o src/test.exe -sdk S:\\Library\\Developer\\Platforms\\Windows.platform\\Developer\\SDKs\\Windows.sdk\n",
    "//%cflags:-I S:\\Library\\Developer\\Platforms\\Windows.platform\\Developer\\SDKs\\Windows.sdk\\usr\\lib\\swift\n",
    "//%ldflags:-L S:\\Library\\Developer\\Platforms\\Windows.platform\\Developer\\SDKs\\Windows.sdk\\usr\\lib\\swift\\windows\n",
    "// %noruncode\n",
    "\n",
    "var friendlyWelcome = \"Hello!\"\n",
    "friendlyWelcome = \"Bonjour!\"\n",
    "// friendlyWelcome 现在是 \"Bonjour!\"\n",
    "\n",
    "print(\"The current value of friendlyWelcome is \\(friendlyWelcome)\")\n",
    "// 输出“The current value of friendlyWelcome is Bonjour!”\n",
    "let cat = \"🐱\"; print(cat)\n",
    "let age = -3\n",
    "// assert(age >= 0, \"A person's age cannot be less than zero\")\n",
    "// 因为 age < 0，所以断言会触发"
   ]
  },
  {
   "cell_type": "code",
   "execution_count": 5,
   "id": "522a5e92",
   "metadata": {},
   "outputs": [
    {
     "data": {
      "text/plain": [
       "Hello, Anna!\n",
       "Hello, Alex!\n",
       "Hello, Brian!\n",
       "Hello, Jack!\n"
      ]
     },
     "metadata": {
      "text/plain": {}
     },
     "output_type": "display_data"
    }
   ],
   "source": [
    "// new kernel.py\n",
    "//%log:0\n",
    "//%overwritefile\n",
    "//%file:src/test.swift\n",
    "//%cflags:-o src/test.exe \n",
    "\n",
    "// ---Windows environment---\n",
    "// %cflags:-sdk S:\\Library\\Developer\\Platforms\\Windows.platform\\Developer\\SDKs\\Windows.sdk\n",
    "// %cflags:-I S:\\Library\\Developer\\Platforms\\Windows.platform\\Developer\\SDKs\\Windows.sdk\\usr\\lib\\swift\n",
    "// %ldflags:-L S:\\Library\\Developer\\Platforms\\Windows.platform\\Developer\\SDKs\\Windows.sdk\\usr\\lib\\swift\\windows\n",
    "\n",
    "// %noruncode\n",
    "let names = [\"Anna\", \"Alex\", \"Brian\", \"Jack\"]\n",
    "for name in names {\n",
    "    print(\"Hello, \\(name)!\")\n",
    "}"
   ]
  }
 ],
 "metadata": {
  "interpreter": {
   "hash": "790d66b9a7d127603100553f17b106d8e2aaf6777ced79107fc93b8d84add8f0"
  },
  "kernelspec": {
   "display_name": "MySwift",
   "language": "swift",
   "name": "myswift"
  },
  "language_info": {
   "codemirror_mode": {
    "name": "ipython",
    "version": 3
   },
   "file_extension": ".ts",
   "mimetype": "text/swift",
   "name": "swift",
   "nbconvert_exporter": "Swift",
   "pygments_lexer": "ipython3",
   "version": "3.9.7"
  },
  "widgets": {
   "application/vnd.jupyter.widget-state+json": {
    "state": {},
    "version_major": 2,
    "version_minor": 0
   }
  }
 },
 "nbformat": 4,
 "nbformat_minor": 5
}
